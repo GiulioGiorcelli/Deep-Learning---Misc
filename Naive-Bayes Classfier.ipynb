{
 "cells": [
  {
   "cell_type": "code",
   "execution_count": null,
   "metadata": {
    "collapsed": true
   },
   "outputs": [],
   "source": [
    "# https://deeplearningcourses.com/c/data-science-supervised-machine-learning-in-python\n",
    "# https://www.udemy.com/data-science-supervised-machine-learning-in-python\n",
    "# This is an example of a Naive Bayes classifier on MNIST data.\n",
    "\n",
    "import numpy as np\n",
    "from util import get_data\n",
    "from datetime import datetime\n",
    "from scipy.stats import norm\n",
    "from scipy.stats import multivariate_normal as mvn\n",
    "\n",
    "class NaiveBayes(object):\n",
    "    def fit(self, X, Y, smoothing=10e-3):\n",
    "        # N, D = X.shape\n",
    "        self.gaussians = dict()\n",
    "        self.priors = dict()\n",
    "        labels = set(Y)\n",
    "        for c in labels:\n",
    "            current_x = X[Y == c]\n",
    "            self.gaussians[c] = {\n",
    "                'mean': current_x.mean(axis=0),\n",
    "                'var': current_x.var(axis=0) + smoothing,\n",
    "            }\n",
    "            # assert(self.gaussians[c]['mean'].shape[0] == D)\n",
    "            self.priors[c] = float(len(Y[Y == c])) / len(Y)\n",
    "        # print \"gaussians:\", self.gaussians\n",
    "        # print \"priors:\", self.priors\n",
    "\n",
    "    def score(self, X, Y):\n",
    "        P = self.predict(X)\n",
    "        return np.mean(P == Y)\n",
    "\n",
    "    def predict(self, X):\n",
    "        N, D = X.shape\n",
    "        K = len(self.gaussians)\n",
    "        P = np.zeros((N, K))\n",
    "        for c, g in self.gaussians.iteritems():\n",
    "            # print \"c:\", c\n",
    "            mean, var = g['mean'], g['var']\n",
    "            P[:,c] = mvn.logpdf(X, mean=mean, cov=var) + np.log(self.priors[c])\n",
    "        return np.argmax(P, axis=1)\n",
    "\n",
    "\n",
    "if __name__ == '__main__':\n",
    "    X, Y = get_data(10000)\n",
    "    Ntrain = len(Y) / 2\n",
    "    Xtrain, Ytrain = X[:Ntrain], Y[:Ntrain]\n",
    "    Xtest, Ytest = X[Ntrain:], Y[Ntrain:]\n",
    "\n",
    "    model = NaiveBayes()\n",
    "    t0 = datetime.now()\n",
    "    model.fit(Xtrain, Ytrain)\n",
    "    print \"Training time:\", (datetime.now() - t0)\n",
    "\n",
    "    t0 = datetime.now()\n",
    "    print \"Train accuracy:\", model.score(Xtrain, Ytrain)\n",
    "    print \"Time to compute train accuracy:\", (datetime.now() - t0), \"Train size:\", len(Ytrain)\n",
    "\n",
    "    t0 = datetime.now()\n",
    "    print \"Test accuracy:\", model.score(Xtest, Ytest)\n",
    "    print \"Time to compute test accuracy:\", (datetime.now() - t0), \"Test size:\", len(Ytest)"
   ]
  }
 ],
 "metadata": {
  "kernelspec": {
   "display_name": "Python 3",
   "language": "python",
   "name": "python3"
  },
  "language_info": {
   "codemirror_mode": {
    "name": "ipython",
    "version": 3
   },
   "file_extension": ".py",
   "mimetype": "text/x-python",
   "name": "python",
   "nbconvert_exporter": "python",
   "pygments_lexer": "ipython3",
   "version": "3.6.0"
  }
 },
 "nbformat": 4,
 "nbformat_minor": 2
}
